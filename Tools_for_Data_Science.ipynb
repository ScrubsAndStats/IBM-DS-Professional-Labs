{
 "cells": [
  {
   "cell_type": "markdown",
   "id": "a7fc9f74-e251-4850-b81b-07a3eabe03e7",
   "metadata": {},
   "source": [
    "# Tools for Data Science"
   ]
  },
  {
   "cell_type": "markdown",
   "id": "6d192d68-2159-42be-af18-e987ea19bac6",
   "metadata": {},
   "source": [
    "Welcome! This notebook serves as a submission for my IBM Tools for Data Science Week 6 assignment. Thank you for your time and effort to grade my submission. I hope you have a wonderful day!"
   ]
  },
  {
   "cell_type": "markdown",
   "id": "26ee8519-ed5b-4986-b6e1-56f84233968a",
   "metadata": {},
   "source": [
    "### Here are some languages commonly used in data science workflows:\n",
    "\n",
    "1. R\n",
    "2. Python\n",
    "3. Julia"
   ]
  },
  {
   "cell_type": "markdown",
   "id": "daa0396b-b440-4843-901d-05ba16526c5a",
   "metadata": {},
   "source": [
    "### Here are some libraries commonly used in data science workflows:\n",
    "\n",
    "1. Scikit-Learn\n",
    "2. Pytorch\n",
    "3. Tensorflow\n",
    "4. Pandas\n",
    "5. Matplotlib"
   ]
  },
  {
   "cell_type": "markdown",
   "id": "ef15c9b7-cdfa-47ae-a2c6-af6b89997b8f",
   "metadata": {},
   "source": [
    "### Here are some tools commonly used in data science workflows:\n",
    "\n",
    "| DS Tools | \n",
    "|:--------:|\n",
    "| Tensorflow |\n",
    "| Apache Hadoop |\n",
    "| RStudio |w 3   |"
   ]
  },
  {
   "cell_type": "markdown",
   "id": "81803b42-cc89-403e-b20e-728229c508f0",
   "metadata": {},
   "source": [
    "### Arithmetic expressions may be used to crunch and modify numbers (all of these results in the answer 4):\n",
    "\n",
    "1. (+) is used to add e.g. 2 + 2\n",
    "2. (-) is used to subtract e.g. 5 - 1\n",
    "3. (*) is used to multiply e.g. 2 * 2\n",
    "4. (/) is used to divide e.g. 8 / 2"
   ]
  },
  {
   "cell_type": "code",
   "execution_count": 5,
   "id": "3edf79e3-f51c-4278-a843-d6020a06e0de",
   "metadata": {},
   "outputs": [
    {
     "data": {
      "text/plain": [
       "14"
      ]
     },
     "execution_count": 5,
     "metadata": {},
     "output_type": "execute_result"
    }
   ],
   "source": [
    "# Multiply and add numbers\n",
    "2 * 2 + (6 + 3)"
   ]
  },
  {
   "cell_type": "code",
   "execution_count": 6,
   "id": "751c5226-1930-438c-91d3-ec7977042609",
   "metadata": {},
   "outputs": [
    {
     "data": {
      "text/plain": [
       "2.0"
      ]
     },
     "execution_count": 6,
     "metadata": {},
     "output_type": "execute_result"
    }
   ],
   "source": [
    "# Convert minutes to hours (120 mins = 2 hours)\n",
    "120 / 60"
   ]
  },
  {
   "cell_type": "markdown",
   "id": "10f54742-5fcd-4687-af44-88a209f1a6ef",
   "metadata": {},
   "source": [
    "### Here are the learning objectives I have learned through this assignment:\n",
    "\n",
    "* Popular languages for DS\n",
    "* Popular libraries for DS\n",
    "* Popular tools for DS\n",
    "* Number crunching in Python"
   ]
  },
  {
   "cell_type": "markdown",
   "id": "2ae940a9-27f0-4065-977b-0f635649eba2",
   "metadata": {},
   "source": [
    "## Author: Ali Salman"
   ]
  }
 ],
 "metadata": {
  "kernelspec": {
   "display_name": "Python 3 (ipykernel)",
   "language": "python",
   "name": "python3"
  },
  "language_info": {
   "codemirror_mode": {
    "name": "ipython",
    "version": 3
   },
   "file_extension": ".py",
   "mimetype": "text/x-python",
   "name": "python",
   "nbconvert_exporter": "python",
   "pygments_lexer": "ipython3",
   "version": "3.11.7"
  }
 },
 "nbformat": 4,
 "nbformat_minor": 5
}
